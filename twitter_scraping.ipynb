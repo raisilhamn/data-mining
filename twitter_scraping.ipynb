{
 "cells": [
  {
   "cell_type": "code",
   "execution_count": 4,
   "metadata": {},
   "outputs": [],
   "source": [
    "import snscrape.modules.twitter as sntwitter\n",
    "import pandas as pd\n",
    "import re\n",
    "import string\n",
    "import emoji\n",
    "# from Sastrawi.Stemmer.StemmerFactory import StemmerFactory\n"
   ]
  },
  {
   "cell_type": "code",
   "execution_count": 30,
   "metadata": {},
   "outputs": [],
   "source": [
    "# Created a list to append all tweet attributes(data)\n",
    "attributes_container = []\n",
    "Q = '(sambo AND polisi) OR (joshua AND polisi)'\n",
    "Q2 = 'polisi AND kanjuruhan'\n",
    "\n",
    "# Using TwitterSearchScraper to scrape data and append tweets to list\n",
    "for i, tweet in enumerate(sntwitter.TwitterSearchScraper(Q2 + ' since:2022-10-01 until:2022-10-16 -filter:retweets -filter:links').get_items()):\n",
    "    if i > 10000:\n",
    "        break\n",
    "    attributes_container.append([tweet.date, tweet.likeCount, tweet.content])\n",
    "\n",
    "# Creating a dataframe from the tweets list above\n",
    "tweets_df = pd.DataFrame(attributes_container, columns=[\n",
    "                         \"Date Created\", \"Number of Likes\", \"Tweets\"])\n",
    "tweets_df2 = pd.DataFrame(attributes_container, columns=[\n",
    "                          \"Date Created\", \"Number of Likes\", \"Tweets\"])\n"
   ]
  },
  {
   "cell_type": "code",
   "execution_count": 63,
   "metadata": {},
   "outputs": [
    {
     "data": {
      "text/html": [
       "<div>\n",
       "<style scoped>\n",
       "    .dataframe tbody tr th:only-of-type {\n",
       "        vertical-align: middle;\n",
       "    }\n",
       "\n",
       "    .dataframe tbody tr th {\n",
       "        vertical-align: top;\n",
       "    }\n",
       "\n",
       "    .dataframe thead th {\n",
       "        text-align: right;\n",
       "    }\n",
       "</style>\n",
       "<table border=\"1\" class=\"dataframe\">\n",
       "  <thead>\n",
       "    <tr style=\"text-align: right;\">\n",
       "      <th></th>\n",
       "      <th>Date Created</th>\n",
       "      <th>Number of Likes</th>\n",
       "      <th>Tweets</th>\n",
       "    </tr>\n",
       "  </thead>\n",
       "  <tbody>\n",
       "    <tr>\n",
       "      <th>0</th>\n",
       "      <td>2022-09-30 11:01:05+00:00</td>\n",
       "      <td>1</td>\n",
       "      <td>Jelang Laga Derby Arema FC dan Persebaya di St...</td>\n",
       "    </tr>\n",
       "  </tbody>\n",
       "</table>\n",
       "</div>"
      ],
      "text/plain": [
       "               Date Created  Number of Likes  \\\n",
       "0 2022-09-30 11:01:05+00:00                1   \n",
       "\n",
       "                                              Tweets  \n",
       "0  Jelang Laga Derby Arema FC dan Persebaya di St...  "
      ]
     },
     "execution_count": 63,
     "metadata": {},
     "output_type": "execute_result"
    }
   ],
   "source": [
    "tweets_df\n",
    "tweets_df2"
   ]
  },
  {
   "cell_type": "code",
   "execution_count": 32,
   "metadata": {},
   "outputs": [],
   "source": [
    "# tweets_df.to_csv('10K sambo josua polisi.csv')  \n",
    "# tweets_df2.to_csv('10k2_'+Q2 + '.csv')  "
   ]
  },
  {
   "cell_type": "code",
   "execution_count": 23,
   "metadata": {},
   "outputs": [],
   "source": [
    "df1 = pd.read_csv('10k_polisi AND kanjuruhan.csv')\n",
    "df1 = df1.drop(columns=['Unnamed: 0', 'Date Created', 'Number of Likes'])\n",
    "\n",
    "df2 = pd.read_csv('10K sambo josua polisi.csv')\n",
    "df2 = df2.drop(columns=['Unnamed: 0', 'Date Created', 'Number of Likes'])\n"
   ]
  },
  {
   "cell_type": "code",
   "execution_count": 24,
   "metadata": {},
   "outputs": [],
   "source": [
    "def clean_text(text):\n",
    "    text = text.lower()\n",
    "    text = re.sub('@[^\\s]+','',text)\n",
    "    text = re.sub('http[^\\s]+','',text)\n",
    "    text = re.sub('\\[.*?\\]', '', text)\n",
    "    text = re.sub('https?://\\S+|www\\.\\S+', '', text)\n",
    "    text = re.sub('<.*?>+', '', text)\n",
    "    text = re.sub('[%s]' % re.escape(string.punctuation), '', text)\n",
    "    text = re.sub('\\n', ' ', text)\n",
    "    text = re.sub('\\w*\\d\\w*', '', text)\n",
    "    return text\n",
    "\n",
    "\n",
    "\n",
    "df1['Tweets'] = df1['Tweets'].apply(clean_text)\n",
    "df2['Tweets'] = df2['Tweets'].apply(clean_text)"
   ]
  },
  {
   "cell_type": "code",
   "execution_count": 25,
   "metadata": {},
   "outputs": [
    {
     "data": {
      "text/html": [
       "<div>\n",
       "<style scoped>\n",
       "    .dataframe tbody tr th:only-of-type {\n",
       "        vertical-align: middle;\n",
       "    }\n",
       "\n",
       "    .dataframe tbody tr th {\n",
       "        vertical-align: top;\n",
       "    }\n",
       "\n",
       "    .dataframe thead th {\n",
       "        text-align: right;\n",
       "    }\n",
       "</style>\n",
       "<table border=\"1\" class=\"dataframe\">\n",
       "  <thead>\n",
       "    <tr style=\"text-align: right;\">\n",
       "      <th></th>\n",
       "      <th>Tweets</th>\n",
       "    </tr>\n",
       "  </thead>\n",
       "  <tbody>\n",
       "    <tr>\n",
       "      <th>0</th>\n",
       "      <td>sama mas saya pikir fokusnya sama bobroknya ke...</td>\n",
       "    </tr>\n",
       "    <tr>\n",
       "      <th>1</th>\n",
       "      <td>haduh polisi lagi yg ditonjolkan polisi dah n...</td>\n",
       "    </tr>\n",
       "    <tr>\n",
       "      <th>2</th>\n",
       "      <td>membuat konsorsium judi menjadi sindikat narko...</td>\n",
       "    </tr>\n",
       "    <tr>\n",
       "      <th>3</th>\n",
       "      <td>yg gak punya wibawa ya jokowi dan mempora ma...</td>\n",
       "    </tr>\n",
       "    <tr>\n",
       "      <th>4</th>\n",
       "      <td>ditambah lg dgn tembakan gas air mata k tribun...</td>\n",
       "    </tr>\n",
       "    <tr>\n",
       "      <th>...</th>\n",
       "      <td>...</td>\n",
       "    </tr>\n",
       "    <tr>\n",
       "      <th>9996</th>\n",
       "      <td>seuporter merasa benar turun k lapang kanjuruh...</td>\n",
       "    </tr>\n",
       "    <tr>\n",
       "      <th>9997</th>\n",
       "      <td>penonton salah polisi salah  semuanya salah di...</td>\n",
       "    </tr>\n",
       "    <tr>\n",
       "      <th>9998</th>\n",
       "      <td>ini waktu  di gbt setelah persebaya kalah law...</td>\n",
       "    </tr>\n",
       "    <tr>\n",
       "      <th>9999</th>\n",
       "      <td>citra polisi indonesia bisa hancur jika kasus ...</td>\n",
       "    </tr>\n",
       "    <tr>\n",
       "      <th>10000</th>\n",
       "      <td>tragedi kanjuruhan adalah akibat akumulasi kes...</td>\n",
       "    </tr>\n",
       "  </tbody>\n",
       "</table>\n",
       "<p>10001 rows × 1 columns</p>\n",
       "</div>"
      ],
      "text/plain": [
       "                                                  Tweets\n",
       "0      sama mas saya pikir fokusnya sama bobroknya ke...\n",
       "1       haduh polisi lagi yg ditonjolkan polisi dah n...\n",
       "2      membuat konsorsium judi menjadi sindikat narko...\n",
       "3        yg gak punya wibawa ya jokowi dan mempora ma...\n",
       "4      ditambah lg dgn tembakan gas air mata k tribun...\n",
       "...                                                  ...\n",
       "9996   seuporter merasa benar turun k lapang kanjuruh...\n",
       "9997   penonton salah polisi salah  semuanya salah di...\n",
       "9998    ini waktu  di gbt setelah persebaya kalah law...\n",
       "9999   citra polisi indonesia bisa hancur jika kasus ...\n",
       "10000  tragedi kanjuruhan adalah akibat akumulasi kes...\n",
       "\n",
       "[10001 rows x 1 columns]"
      ]
     },
     "execution_count": 25,
     "metadata": {},
     "output_type": "execute_result"
    }
   ],
   "source": [
    "df1"
   ]
  },
  {
   "cell_type": "code",
   "execution_count": 26,
   "metadata": {},
   "outputs": [
    {
     "data": {
      "text/html": [
       "<div>\n",
       "<style scoped>\n",
       "    .dataframe tbody tr th:only-of-type {\n",
       "        vertical-align: middle;\n",
       "    }\n",
       "\n",
       "    .dataframe tbody tr th {\n",
       "        vertical-align: top;\n",
       "    }\n",
       "\n",
       "    .dataframe thead th {\n",
       "        text-align: right;\n",
       "    }\n",
       "</style>\n",
       "<table border=\"1\" class=\"dataframe\">\n",
       "  <thead>\n",
       "    <tr style=\"text-align: right;\">\n",
       "      <th></th>\n",
       "      <th>Tweets</th>\n",
       "    </tr>\n",
       "  </thead>\n",
       "  <tbody>\n",
       "    <tr>\n",
       "      <th>0</th>\n",
       "      <td>keren jokowi tangkap penjahat kakap kemaren a...</td>\n",
       "    </tr>\n",
       "    <tr>\n",
       "      <th>1</th>\n",
       "      <td>dipikirpikir pantesan polisi tahuntahun belaka...</td>\n",
       "    </tr>\n",
       "    <tr>\n",
       "      <th>2</th>\n",
       "      <td>setelah kasus sambo yang mayan ribet banyak  p...</td>\n",
       "    </tr>\n",
       "    <tr>\n",
       "      <th>3</th>\n",
       "      <td>bubarkan  institusi  kepolisian  copot  kapolr...</td>\n",
       "    </tr>\n",
       "    <tr>\n",
       "      <th>4</th>\n",
       "      <td>memang kalau jadi polisi baik karir telat jab...</td>\n",
       "    </tr>\n",
       "    <tr>\n",
       "      <th>...</th>\n",
       "      <td>...</td>\n",
       "    </tr>\n",
       "    <tr>\n",
       "      <th>9996</th>\n",
       "      <td>ini baru benar polisipengayomrakyat   jangan j...</td>\n",
       "    </tr>\n",
       "    <tr>\n",
       "      <th>9997</th>\n",
       "      <td>polisi sambo budaya kekerasan om   bukankah in...</td>\n",
       "    </tr>\n",
       "    <tr>\n",
       "      <th>9998</th>\n",
       "      <td>terkuak kenapa densi kebal hukum ternyata i...</td>\n",
       "    </tr>\n",
       "    <tr>\n",
       "      <th>9999</th>\n",
       "      <td>kata bapak w polisi sewa uya kuya aja biar sam...</td>\n",
       "    </tr>\n",
       "    <tr>\n",
       "      <th>10000</th>\n",
       "      <td>apresiasi kecepatan polisi dalam mengusut per...</td>\n",
       "    </tr>\n",
       "  </tbody>\n",
       "</table>\n",
       "<p>10001 rows × 1 columns</p>\n",
       "</div>"
      ],
      "text/plain": [
       "                                                  Tweets\n",
       "0       keren jokowi tangkap penjahat kakap kemaren a...\n",
       "1      dipikirpikir pantesan polisi tahuntahun belaka...\n",
       "2      setelah kasus sambo yang mayan ribet banyak  p...\n",
       "3      bubarkan  institusi  kepolisian  copot  kapolr...\n",
       "4       memang kalau jadi polisi baik karir telat jab...\n",
       "...                                                  ...\n",
       "9996   ini baru benar polisipengayomrakyat   jangan j...\n",
       "9997   polisi sambo budaya kekerasan om   bukankah in...\n",
       "9998      terkuak kenapa densi kebal hukum ternyata i...\n",
       "9999   kata bapak w polisi sewa uya kuya aja biar sam...\n",
       "10000   apresiasi kecepatan polisi dalam mengusut per...\n",
       "\n",
       "[10001 rows x 1 columns]"
      ]
     },
     "execution_count": 26,
     "metadata": {},
     "output_type": "execute_result"
    }
   ],
   "source": [
    "df2"
   ]
  },
  {
   "cell_type": "code",
   "execution_count": null,
   "metadata": {},
   "outputs": [],
   "source": []
  }
 ],
 "metadata": {
  "interpreter": {
   "hash": "e31aef8222fb7c235d2ed8e74ce17e973738f89b37261e7466b7a63a6dfb1214"
  },
  "kernelspec": {
   "display_name": "Python 3.9.1 64-bit",
   "language": "python",
   "name": "python3"
  },
  "language_info": {
   "codemirror_mode": {
    "name": "ipython",
    "version": 3
   },
   "file_extension": ".py",
   "mimetype": "text/x-python",
   "name": "python",
   "nbconvert_exporter": "python",
   "pygments_lexer": "ipython3",
   "version": "3.9.1"
  },
  "orig_nbformat": 4
 },
 "nbformat": 4,
 "nbformat_minor": 2
}
